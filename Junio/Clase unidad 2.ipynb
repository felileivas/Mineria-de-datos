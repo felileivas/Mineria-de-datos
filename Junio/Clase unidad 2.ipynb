{
 "cells": [
  {
   "cell_type": "code",
   "execution_count": 2,
   "metadata": {},
   "outputs": [
    {
     "data": {
      "text/html": [
       "<div>\n",
       "<style scoped>\n",
       "    .dataframe tbody tr th:only-of-type {\n",
       "        vertical-align: middle;\n",
       "    }\n",
       "\n",
       "    .dataframe tbody tr th {\n",
       "        vertical-align: top;\n",
       "    }\n",
       "\n",
       "    .dataframe thead th {\n",
       "        text-align: right;\n",
       "    }\n",
       "</style>\n",
       "<table border=\"1\" class=\"dataframe\">\n",
       "  <thead>\n",
       "    <tr style=\"text-align: right;\">\n",
       "      <th></th>\n",
       "      <th>Experiencia</th>\n",
       "      <th>Profesional</th>\n",
       "      <th>Sueldo</th>\n",
       "    </tr>\n",
       "  </thead>\n",
       "  <tbody>\n",
       "    <tr>\n",
       "      <td>0</td>\n",
       "      <td>1</td>\n",
       "      <td>1</td>\n",
       "      <td>470000</td>\n",
       "    </tr>\n",
       "    <tr>\n",
       "      <td>1</td>\n",
       "      <td>3</td>\n",
       "      <td>0</td>\n",
       "      <td>450000</td>\n",
       "    </tr>\n",
       "    <tr>\n",
       "      <td>2</td>\n",
       "      <td>5</td>\n",
       "      <td>1</td>\n",
       "      <td>950000</td>\n",
       "    </tr>\n",
       "  </tbody>\n",
       "</table>\n",
       "</div>"
      ],
      "text/plain": [
       "   Experiencia  Profesional  Sueldo\n",
       "0            1            1  470000\n",
       "1            3            0  450000\n",
       "2            5            1  950000"
      ]
     },
     "execution_count": 2,
     "metadata": {},
     "output_type": "execute_result"
    }
   ],
   "source": [
    "import pandas as pd\n",
    "import numpy as np\n",
    "\n",
    "df = pd.DataFrame({'Experiencia':[1,3,5],'Profesional':[1,0,1],'Sueldo':[470000,450000,950000]})\n",
    "df"
   ]
  },
  {
   "cell_type": "code",
   "execution_count": 13,
   "metadata": {},
   "outputs": [],
   "source": [
    "from sklearn.model_selection import *\n",
    "\n",
    "X = np.array(df.drop(['Sueldo'],axis=1))\n",
    "y = np.array(df.Sueldo)\n",
    "\n"
   ]
  },
  {
   "cell_type": "code",
   "execution_count": 14,
   "metadata": {},
   "outputs": [],
   "source": [
    "X_train, X_test, y_train, y_test = train_test_split(X,y,test_size = 0.2)"
   ]
  },
  {
   "cell_type": "code",
   "execution_count": 15,
   "metadata": {},
   "outputs": [
    {
     "name": "stdout",
     "output_type": "stream",
     "text": [
      "[[3 0]\n",
      " [1 1]]\n",
      "\n",
      "[[5 1]]\n"
     ]
    }
   ],
   "source": [
    "print(X_train)\n",
    "print(\"\")\n",
    "print(X_test)"
   ]
  },
  {
   "cell_type": "code",
   "execution_count": 17,
   "metadata": {},
   "outputs": [
    {
     "name": "stdout",
     "output_type": "stream",
     "text": [
      "[438000.]\n",
      "\n",
      "[950000]\n"
     ]
    }
   ],
   "source": [
    "from sklearn.linear_model import *\n",
    "\n",
    "LR = LinearRegression().fit(X_train,y_train)\n",
    "y_pred = LR.predict(X_test)\n",
    "\n",
    "print(y_pred)\n",
    "print(\"\")\n",
    "print(y_test)\n",
    "\n",
    "\n"
   ]
  },
  {
   "cell_type": "code",
   "execution_count": 20,
   "metadata": {},
   "outputs": [],
   "source": [
    "### ejemplo clase"
   ]
  },
  {
   "cell_type": "code",
   "execution_count": 25,
   "metadata": {},
   "outputs": [
    {
     "name": "stdout",
     "output_type": "stream",
     "text": [
      "[194.30587587 143.0498167  163.5449208  260.17490231 161.956604\n",
      " 157.54514751 175.44715714 114.91072044 206.35825039 211.51549005\n",
      " 127.15485338 151.51328743 146.17845258 287.66436287  99.14704632\n",
      " 260.08437132 184.26097749 221.90155155  89.06360292 157.66594802\n",
      " 238.86877853 254.55231131 143.78070487 103.35331709 195.49919426\n",
      " 223.51460163 190.8446862   70.4156201  140.04291899 244.86967327\n",
      " 107.99933997 227.89340033 206.96281214 248.59921036 170.56148292\n",
      " 107.02286462 117.83735784 124.58440123 195.05362363 169.44519921\n",
      " 123.88990739  79.92123155 125.22745731 181.99203709  88.53240226\n",
      " 200.02654938 181.41501862 157.91640749 130.92868731 242.12469593\n",
      "  99.38794649 203.88681337 130.35689672 231.36796408 194.68115045\n",
      " 144.04154366 139.53294713 198.86307154 109.03610786 250.62427308\n",
      " 156.32483395 151.41312739  88.03938789 134.34081879 156.39536882\n",
      " 245.36247747 159.71972331 178.72150359 156.81000224 116.61397122\n",
      " 181.22130238 167.03603727 164.7880688  198.25187683 146.72677501\n",
      " 259.26144836  67.86065414 134.18532803  74.80128887 214.16199945\n",
      " 141.01744463 122.97946496 236.16106219 117.89134045 198.28405723\n",
      " 115.32204949 150.88469856 229.61451919 165.07504935]\n",
      "\n",
      "[292.  81. 245. 303. 110. 104. 147. 179. 150. 202. 135. 302.  88. 281.\n",
      " 137. 242. 241. 155.  71. 113. 252. 233. 168.  65. 202. 248.  78.  39.\n",
      " 182. 245. 129. 257. 248. 310. 216.  63. 160. 191. 123. 190. 139.  53.\n",
      "  53. 164.  93. 265.  85. 154. 214. 215.  81. 221. 140. 232.  48. 103.\n",
      "  93. 248. 102. 275. 198.  91.  49. 115. 131. 264. 131. 277. 259.  78.\n",
      " 198. 184. 179. 186.  25. 220.  77. 148. 128. 279. 219. 144. 275.  64.\n",
      " 173.  88. 200. 281. 185.]\n"
     ]
    }
   ],
   "source": [
    "from sklearn.datasets import *\n",
    "X, y = load_diabetes(return_X_y=True)\n",
    "\n",
    "X_train, X_test, y_train, y_test = train_test_split(X,y,test_size = 0.2)\n",
    "\n",
    "LR = LinearRegression().fit(X_train,y_train)\n",
    "\n",
    "y_pred = LR.predict(X_test)\n",
    "\n",
    "print(y_pred)\n",
    "print(\"\")\n",
    "print(y_test)"
   ]
  },
  {
   "cell_type": "code",
   "execution_count": null,
   "metadata": {},
   "outputs": [],
   "source": []
  }
 ],
 "metadata": {
  "kernelspec": {
   "display_name": "Python 3",
   "language": "python",
   "name": "python3"
  },
  "language_info": {
   "codemirror_mode": {
    "name": "ipython",
    "version": 3
   },
   "file_extension": ".py",
   "mimetype": "text/x-python",
   "name": "python",
   "nbconvert_exporter": "python",
   "pygments_lexer": "ipython3",
   "version": "3.7.4"
  }
 },
 "nbformat": 4,
 "nbformat_minor": 2
}
