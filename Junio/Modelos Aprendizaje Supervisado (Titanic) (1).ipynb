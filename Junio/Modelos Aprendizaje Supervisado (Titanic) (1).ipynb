{
 "cells": [
  {
   "cell_type": "markdown",
   "metadata": {},
   "source": [
    "# Importamos las librerias "
   ]
  },
  {
   "cell_type": "code",
   "execution_count": null,
   "metadata": {},
   "outputs": [],
   "source": [
    "#importar librerias a utilizar\n",
    "import numpy as np\n",
    "import pandas as pd\n",
    "from sklearn.model_selection import train_test_split\n",
    "from sklearn.linear_model import LogisticRegression\n",
    "from sklearn.svm import SVC\n",
    "from sklearn.neighbors import KNeighborsClassifier"
   ]
  },
  {
   "cell_type": "markdown",
   "metadata": {},
   "source": [
    "# Analisis de los datos"
   ]
  },
  {
   "cell_type": "code",
   "execution_count": null,
   "metadata": {},
   "outputs": [],
   "source": [
    "# cargamos el dataset de entrenamiento\n",
    "trainDataFrame = pd.read_csv(\"TitanicTrain.csv\")\n",
    "trainDataFrame.head()"
   ]
  },
  {
   "cell_type": "code",
   "execution_count": null,
   "metadata": {},
   "outputs": [],
   "source": [
    "# cargamos el data set de pruebas \n",
    "testDataFrame = pd.read_csv(\"TitanicTest.csv\")\n",
    "testDataFrame.head()"
   ]
  },
  {
   "cell_type": "code",
   "execution_count": null,
   "metadata": {},
   "outputs": [],
   "source": [
    "# Dimensiones del data set de entrenamiento\n",
    "trainDataFrame.shape"
   ]
  },
  {
   "cell_type": "code",
   "execution_count": null,
   "metadata": {},
   "outputs": [],
   "source": [
    "# Dimensiones del data set de pruebas\n",
    "testDataFrame.shape"
   ]
  },
  {
   "cell_type": "code",
   "execution_count": null,
   "metadata": {},
   "outputs": [],
   "source": [
    "# Revisamos la informacion del data set de entrenamiento\n",
    "trainDataFrame.info()"
   ]
  },
  {
   "cell_type": "code",
   "execution_count": null,
   "metadata": {},
   "outputs": [],
   "source": [
    "# Revisamos la informacion del data set de prueba\n",
    "testDataFrame.info()"
   ]
  },
  {
   "cell_type": "code",
   "execution_count": null,
   "metadata": {},
   "outputs": [],
   "source": [
    "# Revisamos los datos nullos\n",
    "pd.isnull(trainDataFrame).sum()"
   ]
  },
  {
   "cell_type": "code",
   "execution_count": null,
   "metadata": {},
   "outputs": [],
   "source": [
    "pd.isnull(testDataFrame).sum()"
   ]
  },
  {
   "cell_type": "code",
   "execution_count": null,
   "metadata": {},
   "outputs": [],
   "source": [
    "# Miramos las estadisticas\n",
    "trainDataFrame.describe()"
   ]
  },
  {
   "cell_type": "code",
   "execution_count": null,
   "metadata": {},
   "outputs": [],
   "source": [
    "testDataFrame.describe()"
   ]
  },
  {
   "cell_type": "markdown",
   "metadata": {},
   "source": [
    "# Limpieza de datos"
   ]
  },
  {
   "cell_type": "code",
   "execution_count": null,
   "metadata": {},
   "outputs": [],
   "source": [
    "# Codificamos la variable categorica Sex\n",
    "trainDataFrame = pd.get_dummies(trainDataFrame, columns = [\"Sex\"], drop_first = True )\n",
    "trainDataFrame.rename(columns = {'Sex_male':'Sex'},inplace=True)\n",
    "trainDataFrame"
   ]
  },
  {
   "cell_type": "code",
   "execution_count": null,
   "metadata": {},
   "outputs": [],
   "source": [
    "testDataFrame = pd.get_dummies(testDataFrame, columns = [\"Sex\"], drop_first = True )\n",
    "testDataFrame.rename(columns = {'Sex_male':'Sex'},inplace=True)\n",
    "testDataFrame"
   ]
  },
  {
   "cell_type": "code",
   "execution_count": null,
   "metadata": {},
   "outputs": [],
   "source": [
    "# Codificamos la variable categorica Embarked\n",
    "trainDataFrame['Embarked'].replace(['Q','S', 'C'],[1,2,3],inplace=True)\n",
    "trainDataFrame"
   ]
  },
  {
   "cell_type": "code",
   "execution_count": null,
   "metadata": {},
   "outputs": [],
   "source": [
    "testDataFrame['Embarked'].replace(['Q','S', 'C'],[1,2,3],inplace=True)\n",
    "testDataFrame"
   ]
  },
  {
   "cell_type": "code",
   "execution_count": null,
   "metadata": {},
   "outputs": [],
   "source": [
    "# Reemplazamos los nulos por el promedio de la columna AGE\n",
    "trainDataFrame.Age.fillna(trainDataFrame.Age.mean(),inplace=True)\n",
    "trainDataFrame"
   ]
  },
  {
   "cell_type": "code",
   "execution_count": null,
   "metadata": {},
   "outputs": [],
   "source": [
    "testDataFrame.Age.fillna(testDataFrame.Age.mean(),inplace=True)\n",
    "testDataFrame"
   ]
  },
  {
   "cell_type": "code",
   "execution_count": null,
   "metadata": {},
   "outputs": [],
   "source": [
    "#Rangos: 0-8, 9-15, 16-18, 19-25, 26-40, 41-60, 61-100\n",
    "bins = [0, 8, 15, 18, 25, 40, 60, 100]\n",
    "names = ['1', '2', '3', '4', '5', '6', '7']\n",
    "trainDataFrame['Age'] = pd.cut(trainDataFrame['Age'], bins, labels = names)\n",
    "trainDataFrame"
   ]
  },
  {
   "cell_type": "code",
   "execution_count": null,
   "metadata": {},
   "outputs": [],
   "source": [
    "testDataFrame['Age'] = pd.cut(testDataFrame['Age'], bins, labels = names)\n",
    "testDataFrame"
   ]
  },
  {
   "cell_type": "code",
   "execution_count": null,
   "metadata": {},
   "outputs": [],
   "source": [
    "# Borramos las columnas que no necesitamos\n",
    "trainDataFrame.drop(['PassengerId','Name','Ticket','Cabin'], axis = 1, inplace=True)\n",
    "trainDataFrame"
   ]
  },
  {
   "cell_type": "code",
   "execution_count": null,
   "metadata": {},
   "outputs": [],
   "source": [
    "testDataFrame.drop(['Name','Ticket','Cabin'], axis = 1, inplace=True)\n",
    "testDataFrame"
   ]
  },
  {
   "cell_type": "code",
   "execution_count": null,
   "metadata": {},
   "outputs": [],
   "source": [
    "#Se elimina las filas con los datos nulos\n",
    "trainDataFrame.dropna(axis=0, how='any', inplace=True)\n",
    "trainDataFrame"
   ]
  },
  {
   "cell_type": "code",
   "execution_count": null,
   "metadata": {},
   "outputs": [],
   "source": [
    "testDataFrame.dropna(axis=0, how='any', inplace=True)\n",
    "testDataFrame"
   ]
  },
  {
   "cell_type": "code",
   "execution_count": null,
   "metadata": {},
   "outputs": [],
   "source": [
    "# Revisamos que ya no tenemos datos nulos\n",
    "print(pd.isnull(trainDataFrame).sum())\n",
    "print(\"Dimensiones: \",trainDataFrame.shape)\n",
    "trainDataFrame.head()"
   ]
  },
  {
   "cell_type": "code",
   "execution_count": null,
   "metadata": {},
   "outputs": [],
   "source": [
    "print(pd.isnull(testDataFrame).sum())\n",
    "print(\"Dimensiones: \",testDataFrame.shape)\n",
    "testDataFrame.head()"
   ]
  },
  {
   "cell_type": "markdown",
   "metadata": {},
   "source": [
    "# Aplicamos los modelos de ML"
   ]
  },
  {
   "cell_type": "code",
   "execution_count": null,
   "metadata": {},
   "outputs": [],
   "source": [
    "# Creamos un arreglo SIN la columna con los sobrevivientes\n",
    "X = np.array(trainDataFrame.drop(['Survived'], 1))"
   ]
  },
  {
   "cell_type": "code",
   "execution_count": null,
   "metadata": {},
   "outputs": [],
   "source": [
    "# Creamos un arreglo de resultados solo con la columna de los sobrevivientes\n",
    "y = np.array(trainDataFrame['Survived'])"
   ]
  },
  {
   "cell_type": "markdown",
   "metadata": {},
   "source": [
    "### Separamos los datos en entrenamiento y prueba para probar los algoritmos"
   ]
  },
  {
   "cell_type": "code",
   "execution_count": null,
   "metadata": {},
   "outputs": [],
   "source": [
    "X_train, X_test, y_train, y_test = train_test_split(X, y, test_size=0.2)"
   ]
  },
  {
   "cell_type": "code",
   "execution_count": null,
   "metadata": {},
   "outputs": [],
   "source": [
    "# Datos de entrenamiento\n",
    "print(\"X_train: \",len(X_train))\n",
    "print(\"y_train: \",len(y_train))\n",
    "# Datos de pruebas\n",
    "print(\"X_test: \",len(X_test))\n",
    "print(\"y_test: \",len(y_test))"
   ]
  },
  {
   "cell_type": "markdown",
   "metadata": {},
   "source": [
    "### Regresión logística"
   ]
  },
  {
   "cell_type": "code",
   "execution_count": null,
   "metadata": {},
   "outputs": [],
   "source": [
    "# Utilizamos el modelo de regresion logistica para nuestros datos\n",
    "reg_log = LogisticRegression()\n",
    "#Entrenamos el modelo con el comando FIT\n",
    "reg_log.fit(X_train, y_train)\n",
    "# Realizamos las predicciones para probar nuestro modelo con el comando predict\n",
    "Y_pred = reg_log.predict(X_test)\n",
    "print(f\"Precisión de la predicción %.2f\" %(reg_log.score(X_train, y_train)*100),\"%\")"
   ]
  },
  {
   "cell_type": "markdown",
   "metadata": {},
   "source": [
    "### Support Vector Machines"
   ]
  },
  {
   "cell_type": "code",
   "execution_count": null,
   "metadata": {},
   "outputs": [],
   "source": [
    "svc = SVC()\n",
    "svc.fit(X_train, y_train)\n",
    "Y_pred = svc.predict(X_test)\n",
    "print(f\"Precisión de la predicción %.2f\" %(svc.score(X_train, y_train)*100),\"%\")"
   ]
  },
  {
   "cell_type": "markdown",
   "metadata": {},
   "source": [
    "### K neighbors"
   ]
  },
  {
   "cell_type": "code",
   "execution_count": null,
   "metadata": {},
   "outputs": [],
   "source": [
    "knb = KNeighborsClassifier(n_neighbors = 3)\n",
    "knb.fit(X_train, y_train)\n",
    "Y_pred = knb.predict(X_test)\n",
    "print(f\"Precisión de la predicción %.2f\" %(knb.score(X_train, y_train)*100),\"%\")"
   ]
  },
  {
   "cell_type": "markdown",
   "metadata": {},
   "source": [
    "# Prediccion"
   ]
  },
  {
   "cell_type": "code",
   "execution_count": null,
   "metadata": {},
   "outputs": [],
   "source": [
    "# Separamos el ide para identificar las predicciones de nuestro data set de pruebas (testDataFrame)\n",
    "ides = testDataFrame['PassengerId']"
   ]
  },
  {
   "cell_type": "markdown",
   "metadata": {},
   "source": [
    "### Regresión logística"
   ]
  },
  {
   "cell_type": "code",
   "execution_count": null,
   "metadata": {},
   "outputs": [],
   "source": [
    "# Utilizamos el modelo ya entrenado con NUEVOS datos\n",
    "prediccion_logreg = reg_log.predict(testDataFrame.drop('PassengerId', axis=1))\n",
    "salidaLogReg = pd.DataFrame({ 'PassengerId' : ides, 'Survived': prediccion_logreg })\n",
    "salidaLogReg.head()"
   ]
  },
  {
   "cell_type": "markdown",
   "metadata": {},
   "source": [
    "### Support Vector Machines"
   ]
  },
  {
   "cell_type": "code",
   "execution_count": null,
   "metadata": {},
   "outputs": [],
   "source": [
    "# Utilizamos el modelo ya entrenado con NUEVOS datos\n",
    "prediccion_svc = svc.predict(testDataFrame.drop('PassengerId', axis=1))\n",
    "salida_svc = pd.DataFrame({ 'PassengerId' : ides, 'Survived': prediccion_svc })\n",
    "salida_svc.head()"
   ]
  },
  {
   "cell_type": "markdown",
   "metadata": {},
   "source": [
    "### K neighbors"
   ]
  },
  {
   "cell_type": "code",
   "execution_count": null,
   "metadata": {},
   "outputs": [],
   "source": [
    "# Utilizamos el modelo ya entrenado con NUEVOS datos\n",
    "prediccion_knb = knb.predict(testDataFrame.drop('PassengerId', axis=1))\n",
    "salida_knb = pd.DataFrame({ 'PassengerId' : ides, 'Survived': prediccion_knb })\n",
    "salida_knb.head()"
   ]
  },
  {
   "cell_type": "code",
   "execution_count": null,
   "metadata": {},
   "outputs": [],
   "source": []
  }
 ],
 "metadata": {
  "kernelspec": {
   "display_name": "Python 3",
   "language": "python",
   "name": "python3"
  },
  "language_info": {
   "codemirror_mode": {
    "name": "ipython",
    "version": 3
   },
   "file_extension": ".py",
   "mimetype": "text/x-python",
   "name": "python",
   "nbconvert_exporter": "python",
   "pygments_lexer": "ipython3",
   "version": "3.7.4"
  }
 },
 "nbformat": 4,
 "nbformat_minor": 2
}
