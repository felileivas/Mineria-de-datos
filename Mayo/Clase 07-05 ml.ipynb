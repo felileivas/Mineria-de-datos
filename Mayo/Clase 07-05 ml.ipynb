{
 "cells": [
  {
   "cell_type": "markdown",
   "metadata": {},
   "source": [
    "### Preparación de Datos.\n",
    "\n",
    "Ahora veremos como preparar las distintas variables para ser utilizadas.\n",
    "Esto implica procesos como:\n",
    "\n",
    "-Normalización.\n",
    "\n",
    "-Codificación de variables categóricas\n",
    "\n",
    "-Estandarización.\n",
    "\n",
    "-Discretización.\n",
    "\n",
    "\n",
    "### ¿Por qué necesitamos esta transformación?\n",
    "\n",
    "Los distintos modelos de Machine Learning funcionan de mejor manera al tener las variables en cierta forma, donde la distribución valores máximos y mínimos y el cambio de variables categóricas por numéricas ayudan a mejorar de gran manera el desempeño de nuestro modelo.\n"
   ]
  },
  {
   "cell_type": "code",
   "execution_count": 26,
   "metadata": {},
   "outputs": [
    {
     "data": {
      "text/plain": [
       "array([[ 0.25, -0.25,  0.5 ],\n",
       "       [ 1.  ,  0.  ,  0.  ],\n",
       "       [ 0.  ,  0.5 , -0.5 ]])"
      ]
     },
     "execution_count": 26,
     "metadata": {},
     "output_type": "execute_result"
    }
   ],
   "source": [
    "#Normalizacion\n",
    "'''\n",
    "La normalización es el proceso de llevar todos los datos \n",
    "de una variable a un rango uniforme (-1,0,1)\n",
    "'''\n",
    "from sklearn import *\n",
    "\n",
    "X = [[ 1., -1.,  2.],\n",
    "     [ 2.,  0.,  0.],\n",
    "     [ 0.,  1., -1.]]\n",
    "x_normalizado = preprocessing.normalize(X, norm='l1')\n",
    "\n",
    "x_normalizado"
   ]
  },
  {
   "cell_type": "code",
   "execution_count": 25,
   "metadata": {},
   "outputs": [
    {
     "data": {
      "text/plain": [
       "array([[0., 2.],\n",
       "       [1., 0.]])"
      ]
     },
     "execution_count": 25,
     "metadata": {},
     "output_type": "execute_result"
    }
   ],
   "source": [
    "#Codificacion de variables categoricas\n",
    "'''\n",
    "Las variables categóricas en si mismas no pueden ser procesadas\n",
    "directamente por los modelos, ya que esperan como input \n",
    "variables numéricas, para poder utilizarlas creamos lo que \n",
    "se conoce como Dummy variables para representarlas.\n",
    "'''\n",
    "\n",
    "\n",
    "from sklearn.preprocessing import OrdinalEncoder\n",
    "enc = OrdinalEncoder()\n",
    "X = [['Male', 1], ['Female', 3], ['Female', 2]]\n",
    "enc.fit(X)\n",
    "enc.categories_\n",
    "enc.transform([['Female', 3], ['Male', 1]])"
   ]
  },
  {
   "cell_type": "code",
   "execution_count": 21,
   "metadata": {},
   "outputs": [
    {
     "data": {
      "text/plain": [
       "array([[ 0.        , -1.22474487,  1.33630621],\n",
       "       [ 1.22474487,  0.        , -0.26726124],\n",
       "       [-1.22474487,  1.22474487, -1.06904497]])"
      ]
     },
     "execution_count": 21,
     "metadata": {},
     "output_type": "execute_result"
    }
   ],
   "source": [
    "#Estandarizacion\n",
    "'''\n",
    "La mayoría de los modelos no se desempañan bien si los \n",
    "datos no están en distribución normal.\n",
    "\n",
    "Para ello utilizamos scale\n",
    "'''\n",
    "\n",
    "from sklearn import preprocessing\n",
    "import numpy as np\n",
    "\n",
    "X_train = [[ 1., -1.,  2.],\n",
    "           [ 2.,  0.,  0.],\n",
    "           [ 0.,  1., -1.]]\n",
    "\n",
    "x_scaled = preprocessing.scale(X_train)\n",
    "\n",
    "x_scaled"
   ]
  },
  {
   "cell_type": "code",
   "execution_count": 24,
   "metadata": {},
   "outputs": [
    {
     "data": {
      "text/plain": [
       "array([[0., 1., 1.],\n",
       "       [1., 1., 1.],\n",
       "       [2., 0., 0.]])"
      ]
     },
     "execution_count": 24,
     "metadata": {},
     "output_type": "execute_result"
    }
   ],
   "source": [
    "#Discretizacion\n",
    "'''\n",
    "La discretización nos ayuda con los valores continuos,\n",
    "ya que muchas veces el total de los valores no aporta \n",
    "mucha información, la discretización nos permite agruparlos.\n",
    "'''\n",
    "\n",
    "X = np.array([[-3., 5., 15],\n",
    "             [0., 6.0, 14],\n",
    "             [6., 3., 11]])\n",
    "est = preprocessing.KBinsDiscretizer(n_bins=[3,2,2], encode='ordinal').fit(X)\n",
    "\n",
    "est.transform(X)"
   ]
  },
  {
   "cell_type": "code",
   "execution_count": null,
   "metadata": {},
   "outputs": [],
   "source": []
  }
 ],
 "metadata": {
  "kernelspec": {
   "display_name": "Python 3",
   "language": "python",
   "name": "python3"
  },
  "language_info": {
   "codemirror_mode": {
    "name": "ipython",
    "version": 3
   },
   "file_extension": ".py",
   "mimetype": "text/x-python",
   "name": "python",
   "nbconvert_exporter": "python",
   "pygments_lexer": "ipython3",
   "version": "3.7.6"
  }
 },
 "nbformat": 4,
 "nbformat_minor": 2
}
